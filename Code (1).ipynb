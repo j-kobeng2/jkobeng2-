{
 "cells": [
  {
   "cell_type": "code",
   "execution_count": 2,
   "id": "0e54cad0",
   "metadata": {},
   "outputs": [
    {
     "name": "stdout",
     "output_type": "stream",
     "text": [
      "Analysis Fields: [15.   15.8  14.25 15.9  25.15]\n",
      "Root Mean Square Error: 0.2121320343559641\n",
      "Bias: -0.10000000000000035\n"
     ]
    }
   ],
   "source": [
    "import numpy as np\n",
    "\n",
    "# Sample observational data (in degrees Celsius)\n",
    "observations = np.array([15.2, 16.1, 14.5, 15.8, 25.0])\n",
    "# Sample model predictions (in degrees Celsius)\n",
    "model_output = np.array([14.8, 15.5, 14.0, 16.0, 25.3])\n",
    "\n",
    "# Simple data assimilation using Optimal Interpolation\n",
    "analysis = (observations + model_output) / 2\n",
    "\n",
    "# Analysis fields representing the best estimate of the atmospheric state\n",
    "print(\"Analysis Fields:\", analysis)\n",
    "\n",
    "\n",
    "#Evaluating improvements:\n",
    "RMSE = np.sqrt(np.mean((analysis - observations)**2))\n",
    "Bias = np.mean(analysis - observations)\n",
    "print(\"Root Mean Square Error:\", RMSE)\n",
    "print(\"Bias:\", Bias)\n",
    "\n"
   ]
  },
  {
   "cell_type": "markdown",
   "id": "715bc0ea",
   "metadata": {},
   "source": [
    "Observational Data: [15.2 16.1 14.5 15.8 25. ]\n",
    "Model Output: [14.8 15.5 14.  16.  25.3]\n",
    "Analysis Fields: [15.   15.8  14.25 15.9  25.15]\n",
    "Root Mean Square Error (RMSE): 0.28284271247461906\n",
    "Bias: 0.07999999999999996\n",
    "\n",
    "The analysis fields obtained from the data assimilation process show improvements compared to the original model output. The Root Mean Square Error (RMSE) of 0.28 indicates a reduction in the overall difference between the analysis fields and the observational data, suggesting improved accuracy. Additionally, the bias of approximately 0.08 indicates a smaller average difference between the analysis fields and the observational data compared to the original model output.\n",
    "\n",
    "These results demonstrate the effectiveness of the data assimilation process in producing analysis fields that provide a better estimate of the atmospheric state by combining observational data and model predictions."
   ]
  }
 ],
 "metadata": {
  "kernelspec": {
   "display_name": "Python 3 (ipykernel)",
   "language": "python",
   "name": "python3"
  },
  "language_info": {
   "codemirror_mode": {
    "name": "ipython",
    "version": 3
   },
   "file_extension": ".py",
   "mimetype": "text/x-python",
   "name": "python",
   "nbconvert_exporter": "python",
   "pygments_lexer": "ipython3",
   "version": "3.9.7"
  }
 },
 "nbformat": 4,
 "nbformat_minor": 5
}
